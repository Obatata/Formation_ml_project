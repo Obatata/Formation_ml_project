{
 "cells": [
  {
   "cell_type": "markdown",
   "metadata": {},
   "source": [
    "# Feature engineering des données\n",
    "\n",
    "Le feature engineering des données suivera le plan suivant :\n",
    "\n",
    "   1. Données manquantes\n",
    "       - Variables qualitatives\n",
    "       - Variables quantitatives\n",
    "   2. Variables asymétriques\n",
    "   3. Variables qualitatives : mapping/one-hot encoding\n",
    "   4. Entrainement d'un premier modèle"
   ]
  },
  {
   "cell_type": "markdown",
   "metadata": {},
   "source": [
    "# 0. Importer les librairies / Lecture des données"
   ]
  },
  {
   "cell_type": "code",
   "execution_count": 54,
   "metadata": {},
   "outputs": [],
   "source": [
    "import pandas as pd\n",
    "import numpy as np\n",
    "\n",
    "import scipy.stats as stats\n",
    "\n",
    "from sklearn.model_selection import train_test_split\n",
    "from sklearn.linear_model import LogisticRegression\n",
    "from sklearn.metrics import accuracy_score\n",
    "import joblib\n",
    "\n",
    "pd.pandas.set_option(\"display.max_columns\", None)"
   ]
  },
  {
   "cell_type": "code",
   "execution_count": 55,
   "metadata": {},
   "outputs": [
    {
     "data": {
      "text/plain": [
       "((648, 11), (73, 11))"
      ]
     },
     "execution_count": 55,
     "metadata": {},
     "output_type": "execute_result"
    }
   ],
   "source": [
    "data = pd.read_csv(\"train.csv\")\n",
    "X_train, X_test, y_train, y_test = train_test_split(\n",
    "    data.drop([\"HeartDisease\"], axis=1),\n",
    "    data[\"HeartDisease\"], \n",
    "    test_size=0.1,\n",
    "    random_state=123\n",
    ")\n",
    "X_train.shape, X_test.shape"
   ]
  },
  {
   "cell_type": "markdown",
   "metadata": {},
   "source": [
    "# 1. Données manquantes"
   ]
  },
  {
   "cell_type": "code",
   "execution_count": 56,
   "metadata": {},
   "outputs": [
    {
     "name": "stdout",
     "output_type": "stream",
     "text": [
      "CAT_VAR :  ['ChestPainType', 'RestingECG', 'ST_Slope', 'Sex', 'ExerciseAngina']\n",
      "QUANT_VAR :  ['Age', 'RestingBP', 'Cholesterol', 'FastingBS', 'MaxHR', 'Oldpeak']\n"
     ]
    }
   ],
   "source": [
    "# Rappel\n",
    "\n",
    "# Identifier toutes les variables dont le type est \"object\" avec le dtype\n",
    "CAT_VAR = [nom_col for nom_col in data.columns if data[nom_col].dtype == \"object\" \n",
    "           if nom_col not in  [\"Sex\", \"ExerciseAngina\"]]\n",
    "\n",
    "# Identifier les variables binaires\n",
    "BIN_VAR = [\"Sex\", \"ExerciseAngina\"]\n",
    "\n",
    "CAT_VAR.extend(BIN_VAR)\n",
    "print(\"CAT_VAR : \", CAT_VAR)\n",
    "\n",
    "# Le restant des variables est automatiquement de type quantitiaves \n",
    "QUANT_VAR = [nom_col for nom_col in data.columns\n",
    "             if nom_col not in set(BIN_VAR).union(set(CAT_VAR))\n",
    "             and  nom_col != \"HeartDisease\"]\n",
    "print(\"QUANT_VAR : \", QUANT_VAR)"
   ]
  },
  {
   "cell_type": "markdown",
   "metadata": {},
   "source": [
    "## 1.1 Variables qualitatives"
   ]
  },
  {
   "cell_type": "code",
   "execution_count": 57,
   "metadata": {},
   "outputs": [
    {
     "name": "stdout",
     "output_type": "stream",
     "text": [
      "la moyenne des données manquantes par colonne:\n",
      "CAT_VAR_WITH_NA =  ['ChestPainType', 'ST_Slope']\n",
      "ST_Slope         0.266297\n",
      "ChestPainType    0.097087\n",
      "dtype: float64\n"
     ]
    }
   ],
   "source": [
    "cat_var_with_na = [var for var in CAT_VAR  \n",
    "                  if data[var].isnull().sum() > 0]\n",
    "\n",
    "# Affichier la moyenne des données manquantes par colonne\n",
    "mean_per_col = data[cat_var_with_na].isnull().mean().sort_values(ascending=False)\n",
    "print(\"la moyenne des données manquantes par colonne:\")\n",
    "print(\"CAT_VAR_WITH_NA = \", cat_var_with_na)\n",
    "print(mean_per_col)\n",
    "\n"
   ]
  },
  {
   "cell_type": "code",
   "execution_count": 58,
   "metadata": {},
   "outputs": [
    {
     "name": "stdout",
     "output_type": "stream",
     "text": [
      "ChestPainType ASY\n",
      "--\n",
      "CAT_NAN_WITH_VAL_MISS =  ['ST_Slope']\n",
      "CAT_NAN_FREQUENT_VAL =  ['ChestPainType']\n",
      "\n",
      "sum of nan for cat_na_frequent_val ChestPainType    0\n",
      "dtype: int64\n",
      "sum of nan for cat_nan_with_val_miss ST_Slope    0\n",
      "dtype: int64\n"
     ]
    }
   ],
   "source": [
    "# on choisi le seuil 15 % pour traiter les valeurs manquantes \n",
    "cat_nan_with_val_miss = [var for var in cat_var_with_na \n",
    "                        if data[var].isnull().mean() > 0.15]\n",
    "\n",
    "cat_nan_frequent_val = [var for var in cat_var_with_na \n",
    "                        if data[var].isnull().mean() <= 0.15]\n",
    "\n",
    "#--------------------------------------------------------------\n",
    "\n",
    "## if > 0.15 == ajouter \"Mussing\"\n",
    "X_train[cat_nan_with_val_miss] = X_train[cat_nan_with_val_miss].fillna(\"Missing\")\n",
    "X_test[cat_nan_with_val_miss] = X_test[cat_nan_with_val_miss].fillna(\"Missing\")\n",
    "\n",
    "## if <= 0.15 == ajouter val plus fréquente\n",
    "for var in cat_nan_frequent_val:\n",
    "    mode = X_train[var].mode()[0]\n",
    "    print(var, mode)\n",
    "    \n",
    "    X_train[var].fillna(mode, inplace=True)\n",
    "    X_test[var].fillna(mode, inplace=True)\n",
    "print(\"--\")\n",
    "#--------------------------------------------------------------\n",
    "\n",
    "# Check miss values\n",
    "print(\"CAT_NAN_WITH_VAL_MISS = \", cat_nan_with_val_miss)\n",
    "print(\"CAT_NAN_FREQUENT_VAL = \", cat_nan_frequent_val)\n",
    "print()\n",
    "print(\"sum of nan for cat_na_frequent_val\", X_train[cat_nan_frequent_val].isnull().sum())\n",
    "print(\"sum of nan for cat_nan_with_val_miss\", X_train[cat_nan_with_val_miss].isnull().sum())"
   ]
  },
  {
   "cell_type": "markdown",
   "metadata": {},
   "source": [
    "## 1.2 Variables quantitatives"
   ]
  },
  {
   "cell_type": "code",
   "execution_count": 59,
   "metadata": {},
   "outputs": [
    {
     "name": "stdout",
     "output_type": "stream",
     "text": [
      "la moyenne des données manquantes par colonne : \n",
      "QUANT_VAR_WITH_NA :  ['Cholesterol', 'MaxHR']\n",
      "Cholesterol    0.375867\n",
      "MaxHR          0.006935\n",
      "dtype: float64\n"
     ]
    }
   ],
   "source": [
    "quant_var_with_na = [var for var in QUANT_VAR \n",
    "                    if data[var].isnull().sum() > 0]\n",
    "\n",
    "# Affichier la moyenne des données manquantes par colonne\n",
    "mean_per_col = data[quant_var_with_na].isnull().mean().sort_values(ascending=False)\n",
    "print(\"la moyenne des données manquantes par colonne : \")\n",
    "print(\"QUANT_VAR_WITH_NA : \", quant_var_with_na)\n",
    "print(mean_per_col)\n"
   ]
  },
  {
   "cell_type": "code",
   "execution_count": 60,
   "metadata": {},
   "outputs": [
    {
     "name": "stdout",
     "output_type": "stream",
     "text": [
      "mean (Cholesterol) est : 199.01555555555555\n",
      "mean (MaxHR) est : 137.19553072625698\n",
      "\n",
      "Pourcentage des nan valeurs par colonnes\n",
      "Cholesterol    0\n",
      "MaxHR          0\n",
      "dtype: int64\n"
     ]
    }
   ],
   "source": [
    "for var in quant_var_with_na:\n",
    "    mean_val = data[var].mean()\n",
    "    \n",
    "    print(\"mean ({}) est : {}\".format(var, mean_val))\n",
    "    \n",
    "    # On ajoute un indicateur des valeurs manquantes \n",
    "    # Dans certains cas les valeurs manquantes peuvent avoir un impact sur la prédiction \n",
    "    X_train[var+\"_indc_na\"] = np.where(X_train[var].isnull(), 1, 0) \n",
    "    X_test[var+\"_indc_na\"] = np.where(X_test[var].isnull(), 1, 0) \n",
    "    \n",
    "    \n",
    "    # remplacer les valeurs manquantes par la moyenne\n",
    "    X_train[var].fillna(mean_val, inplace=True)\n",
    "    X_test[var].fillna(mean_val, inplace=True)\n",
    "    \n",
    "# check miss values\n",
    "print()\n",
    "print(\"Pourcentage des nan valeurs par colonnes\")\n",
    "print(X_train[quant_var_with_na].isnull().sum())\n",
    "    \n"
   ]
  },
  {
   "cell_type": "markdown",
   "metadata": {},
   "source": [
    "# 2. Variables asymétriques"
   ]
  },
  {
   "cell_type": "markdown",
   "metadata": {},
   "source": [
    "# 2.1 Transformation Yeo-Johnson "
   ]
  },
  {
   "cell_type": "code",
   "execution_count": 65,
   "metadata": {},
   "outputs": [
    {
     "name": "stdout",
     "output_type": "stream",
     "text": [
      "VAR_YEO-JOHNSO =  ['RestingBP']\n",
      "param :  1.043994005071975\n"
     ]
    }
   ],
   "source": [
    "# Entrainement du transformeur sur X_train\n",
    "X_train[\"RestingBP\"], param = stats.yeojohnson(X_train[\"RestingBP\"])\n",
    "\n",
    "# inférence des paramètres du transformeur \n",
    "X_test[\"RestingBP\"] = stats.yeojohnson(X_test[\"RestingBP\"], lmbda=param)\n",
    "print(\"VAR_YEO-JOHNSO = \", [\"RestingBP\"])\n",
    "print(\"param : \", param)"
   ]
  },
  {
   "cell_type": "markdown",
   "metadata": {},
   "source": [
    "# 3. Variables qualitatives : mapping/one-hot encoding"
   ]
  },
  {
   "cell_type": "markdown",
   "metadata": {},
   "source": [
    "## 3.1 mapping"
   ]
  },
  {
   "cell_type": "code",
   "execution_count": 62,
   "metadata": {},
   "outputs": [],
   "source": [
    "# RestingECG  mapping : \n",
    "map_RestingECG = {\"Missing\": 0, \"NA\": 0, \"Normal\":1, \"ST\": 2, \"LVH\":3}\n",
    "X_train[\"RestingECG\"] = X_train[\"RestingECG\"].map(map_RestingECG)\n",
    "X_test[\"RestingECG\"] = X_test[\"RestingECG\"].map(map_RestingECG)\n",
    "\n",
    "# Sex mapping\n",
    "map_Sex = {\"Missing\": 0, \"NA\": 0, \"M\":1, \"F\":2}\n",
    "X_train[\"Sex\"] = X_train[\"Sex\"].map(map_Sex)\n",
    "X_test[\"Sex\"] = X_test[\"Sex\"].map(map_Sex)\n",
    "\n",
    "# ExerciseAngina\n",
    "map_ExerciseAngina = {\"Missing\": 0, \"NA\": 0, \"N\":1, \"Y\":2}\n",
    "X_train[\"ExerciseAngina\"] = X_train[\"ExerciseAngina\"].map(map_ExerciseAngina)\n",
    "X_test[\"ExerciseAngina\"] = X_test[\"ExerciseAngina\"].map(map_ExerciseAngina)"
   ]
  },
  {
   "cell_type": "markdown",
   "metadata": {},
   "source": [
    "# 3.2 one-hot encoding"
   ]
  },
  {
   "cell_type": "code",
   "execution_count": 63,
   "metadata": {},
   "outputs": [],
   "source": [
    "CAT_VAR_NOM = ['ChestPainType', 'ST_Slope']\n",
    "\n",
    "for var in CAT_VAR_NOM:\n",
    "    X_train= pd.get_dummies(X_train, prefix=var, columns=[var])\n",
    "    X_test= pd.get_dummies(X_test, prefix=var, columns=[var])"
   ]
  },
  {
   "cell_type": "markdown",
   "metadata": {},
   "source": [
    "# 4. Entrainement d'un premier modèle"
   ]
  },
  {
   "cell_type": "code",
   "execution_count": 64,
   "metadata": {},
   "outputs": [
    {
     "name": "stdout",
     "output_type": "stream",
     "text": [
      "accracy :  0.8493150684931506\n"
     ]
    },
    {
     "name": "stderr",
     "output_type": "stream",
     "text": [
      "/home/batata/anaconda3/lib/python3.8/site-packages/sklearn/linear_model/_logistic.py:762: ConvergenceWarning: lbfgs failed to converge (status=1):\n",
      "STOP: TOTAL NO. of ITERATIONS REACHED LIMIT.\n",
      "\n",
      "Increase the number of iterations (max_iter) or scale the data as shown in:\n",
      "    https://scikit-learn.org/stable/modules/preprocessing.html\n",
      "Please also refer to the documentation for alternative solver options:\n",
      "    https://scikit-learn.org/stable/modules/linear_model.html#logistic-regression\n",
      "  n_iter_i = _check_optimize_result(\n"
     ]
    }
   ],
   "source": [
    "# Régression logistique \n",
    "model = LogisticRegression(random_state=123)\n",
    "\n",
    "# train the model\n",
    "clf = model.fit(X_train, y_train)\n",
    "\n",
    "# predict test data\n",
    "y_pred = clf.predict(X_test)\n",
    "\n",
    "# score model\n",
    "print(\"accracy : \", accuracy_score(y_test, y_pred))"
   ]
  }
 ],
 "metadata": {
  "kernelspec": {
   "display_name": "Python 3",
   "language": "python",
   "name": "python3"
  },
  "language_info": {
   "codemirror_mode": {
    "name": "ipython",
    "version": 3
   },
   "file_extension": ".py",
   "mimetype": "text/x-python",
   "name": "python",
   "nbconvert_exporter": "python",
   "pygments_lexer": "ipython3",
   "version": "3.8.5"
  }
 },
 "nbformat": 4,
 "nbformat_minor": 4
}
