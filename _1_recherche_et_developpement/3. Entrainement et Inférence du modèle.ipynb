{
 "cells": [
  {
   "cell_type": "markdown",
   "metadata": {},
   "source": [
    "# 0. Importer les librairies / Lecture des données"
   ]
  },
  {
   "cell_type": "code",
   "execution_count": 226,
   "metadata": {},
   "outputs": [
    {
     "data": {
      "text/plain": [
       "((648, 11), (73, 11))"
      ]
     },
     "execution_count": 226,
     "metadata": {},
     "output_type": "execute_result"
    }
   ],
   "source": [
    "import pandas as pd\n",
    "import numpy as np\n",
    "\n",
    "import scipy.stats as stats\n",
    "\n",
    "from sklearn.model_selection import train_test_split\n",
    "from sklearn.linear_model import LogisticRegression\n",
    "from sklearn.metrics import accuracy_score\n",
    "import joblib\n",
    "\n",
    "pd.pandas.set_option(\"display.max_columns\", None)\n",
    "\n",
    "data = pd.read_csv(\"train.csv\")\n",
    "X_train, X_test, y_train, y_test = train_test_split(\n",
    "    data.drop([\"HeartDisease\"], axis=1),\n",
    "    data[\"HeartDisease\"], \n",
    "    test_size=0.1,\n",
    "    random_state=123\n",
    ")\n",
    "X_train.shape, X_test.shape"
   ]
  },
  {
   "cell_type": "markdown",
   "metadata": {},
   "source": [
    "# 1. Configuration"
   ]
  },
  {
   "cell_type": "code",
   "execution_count": 227,
   "metadata": {},
   "outputs": [],
   "source": [
    "# Configuration données :manquantes \n",
    "CAT_NAN_WITH_VAL_MISS =  ['ST_Slope']\n",
    "CAT_NAN_FREQUENT_VAL =  ['ChestPainType']\n",
    "QUANT_VAR_WITH_NA = ['Cholesterol', 'MaxHR']\n",
    "                         \n",
    "                         \n",
    "# Congfiguration des transformations de distributions\n",
    "VAR_YEO_JOHNSON = [\"RestingBP\"]\n",
    "lmbda=-12.55283001172003\n",
    "                         \n",
    "# configuration des mapping de variables qualitatives\n",
    "map_variables = {\n",
    "    \"RestingECG\": {\"Missing\": 0, \"NA\": 0, \"Normal\":1, \"ST\": 2, \"LVH\":3}, \n",
    "    \"Sex\":{\"Missing\": 0, \"NA\": 0, \"M\":1, \"F\":2}, \n",
    "    \"ExerciseAngina\" : {\"Missing\": 0, \"NA\": 0, \"N\":1, \"Y\":2}  \n",
    "    }       \n",
    "\n",
    "# Cofiguration du one-hot encoding\n",
    "CAT_VAR_ONE_HOT = ['ChestPainType', 'ST_Slope']\n",
    "              \n",
    "# Configuration de random_state\n",
    "RANDOM_STATE = 123\n",
    "\n",
    "# Configuration du paramètre de la régression logistique \n",
    "C=1.0"
   ]
  },
  {
   "cell_type": "markdown",
   "metadata": {},
   "source": [
    "# 2. Pipeline : entrainement"
   ]
  },
  {
   "cell_type": "markdown",
   "metadata": {},
   "source": [
    "## 2.1 Nétoyage de données en pipeline"
   ]
  },
  {
   "cell_type": "code",
   "execution_count": 228,
   "metadata": {},
   "outputs": [],
   "source": [
    "# Step 1: \n",
    "def CategoricalImputer_missing(df, variables):\n",
    "    df[variables] = df[variables].fillna(\"Missing\")\n",
    "\n",
    "# Step 2: \n",
    "def CategoricalImputer_frequent(df, variables):\n",
    "    for var in variables:\n",
    "        mode = df[var].mode()[0]\n",
    "        df[var].fillna(mode, inplace=True)\n",
    "        \n",
    "# Step 3: \n",
    "def addMissingIndicator(df, variables):\n",
    "    for var in variables:\n",
    "        df[var+\"_indc_na\"] = np.where(df[var].isnull(), 1, 0) \n",
    "        \n",
    "# Step4 :\n",
    "def addMeadianImputer(df, variables):\n",
    "    for var in variables:\n",
    "        mean = df[var].mean()\n",
    "        df[var].fillna(mean, inplace=True)\n",
    "\n",
    "# Step 5:\n",
    "def YeoJohnsonTransformation(df, variables, param):\n",
    "    for var in variables:\n",
    "        df[var] = stats.yeojohnson(df[var], lmbda=param)\n",
    "        \n",
    "# Step 6:\n",
    "def mapping_var(df, dict_mapping):\n",
    "    for var in dict_mapping.keys():\n",
    "        mapping = dict_mapping[var]\n",
    "        df[var] = df[var].map(mapping)\n",
    "\n",
    "# Step 7 \n",
    "def oneHotEncoding(df, variables):\n",
    "    for var in variables:\n",
    "        df[var] = pd.get_dummies(df, prefix=var, columns=[var])"
   ]
  },
  {
   "cell_type": "code",
   "execution_count": 229,
   "metadata": {},
   "outputs": [],
   "source": [
    "# Let's apply pipeline of cleaning data  \n",
    "def pipeline_cleaning_data(X_train):\n",
    "    # Step 1: \n",
    "    CategoricalImputer_missing(X_train, CAT_NAN_WITH_VAL_MISS)\n",
    "    # Step 2 : \n",
    "    CategoricalImputer_frequent(X_train, CAT_NAN_FREQUENT_VAL)\n",
    "    # Step 3 : \n",
    "    addMissingIndicator(X_train, QUANT_VAR_WITH_NA)\n",
    "    # Step 4 : \n",
    "    addMeadianImputer(X_train, QUANT_VAR_WITH_NA)\n",
    "    # Step 5\n",
    "    YeoJohnsonTransformation(X_train, VAR_YEO_JOHNSON, lmbda)\n",
    "    # Step 6\n",
    "    mapping_var(X_train, map_variables)\n",
    "    # Step 7\n",
    "    oneHotEncoding(X_train, CAT_VAR_ONE_HOT)\n",
    "    \n",
    "pipeline_cleaning_data(X_train)\n",
    "pipeline_cleaning_data(X_test)"
   ]
  },
  {
   "cell_type": "markdown",
   "metadata": {},
   "source": [
    "## 2.2 Entrainement et évaluation du modèle "
   ]
  },
  {
   "cell_type": "code",
   "execution_count": 230,
   "metadata": {},
   "outputs": [
    {
     "name": "stdout",
     "output_type": "stream",
     "text": [
      "accuracy training :  0.8070987654320988\n",
      "accuracy testing :  0.8493150684931506\n"
     ]
    },
    {
     "name": "stderr",
     "output_type": "stream",
     "text": [
      "/home/batata/anaconda3/lib/python3.8/site-packages/sklearn/linear_model/_logistic.py:762: ConvergenceWarning: lbfgs failed to converge (status=1):\n",
      "STOP: TOTAL NO. of ITERATIONS REACHED LIMIT.\n",
      "\n",
      "Increase the number of iterations (max_iter) or scale the data as shown in:\n",
      "    https://scikit-learn.org/stable/modules/preprocessing.html\n",
      "Please also refer to the documentation for alternative solver options:\n",
      "    https://scikit-learn.org/stable/modules/linear_model.html#logistic-regression\n",
      "  n_iter_i = _check_optimize_result(\n"
     ]
    }
   ],
   "source": [
    "def train_model(X_train, y_train, X_test, y_test, C, random_state):\n",
    "    clf = LogisticRegression(C=C, random_state=random_state)\n",
    "    clf.fit(X_train, y_train)\n",
    "    y_pred = clf.predict(X_train)\n",
    "    print(\"accuracy training : \", accuracy_score(y_train, y_pred))\n",
    "    y_pred = clf.predict(X_test)\n",
    "    print(\"accuracy testing : \", accuracy_score(y_test, y_pred))\n",
    "    return clf\n",
    "\n",
    "def save_model(clf):\n",
    "    joblib.dump(clf, \"logistic_regression_model.joblib\")\n",
    "    \n",
    "clf = train_model(X_train, y_train, X_test, y_test, C, RANDOM_STATE)\n",
    "save_model(clf)"
   ]
  },
  {
   "cell_type": "markdown",
   "metadata": {},
   "source": [
    "# 3. Pipeline : inférence"
   ]
  },
  {
   "cell_type": "code",
   "execution_count": 231,
   "metadata": {},
   "outputs": [
    {
     "data": {
      "text/html": [
       "<div>\n",
       "<style scoped>\n",
       "    .dataframe tbody tr th:only-of-type {\n",
       "        vertical-align: middle;\n",
       "    }\n",
       "\n",
       "    .dataframe tbody tr th {\n",
       "        vertical-align: top;\n",
       "    }\n",
       "\n",
       "    .dataframe thead th {\n",
       "        text-align: right;\n",
       "    }\n",
       "</style>\n",
       "<table border=\"1\" class=\"dataframe\">\n",
       "  <thead>\n",
       "    <tr style=\"text-align: right;\">\n",
       "      <th></th>\n",
       "      <th>Age</th>\n",
       "      <th>Sex</th>\n",
       "      <th>ChestPainType</th>\n",
       "      <th>RestingBP</th>\n",
       "      <th>Cholesterol</th>\n",
       "      <th>FastingBS</th>\n",
       "      <th>RestingECG</th>\n",
       "      <th>MaxHR</th>\n",
       "      <th>ExerciseAngina</th>\n",
       "      <th>Oldpeak</th>\n",
       "      <th>ST_Slope</th>\n",
       "    </tr>\n",
       "  </thead>\n",
       "  <tbody>\n",
       "    <tr>\n",
       "      <th>0</th>\n",
       "      <td>40</td>\n",
       "      <td>M</td>\n",
       "      <td>ATA</td>\n",
       "      <td>140</td>\n",
       "      <td>289.0</td>\n",
       "      <td>0</td>\n",
       "      <td>Normal</td>\n",
       "      <td>172.0</td>\n",
       "      <td>N</td>\n",
       "      <td>0.0</td>\n",
       "      <td>Up</td>\n",
       "    </tr>\n",
       "    <tr>\n",
       "      <th>1</th>\n",
       "      <td>49</td>\n",
       "      <td>F</td>\n",
       "      <td>NAP</td>\n",
       "      <td>160</td>\n",
       "      <td>NaN</td>\n",
       "      <td>0</td>\n",
       "      <td>Normal</td>\n",
       "      <td>156.0</td>\n",
       "      <td>N</td>\n",
       "      <td>1.0</td>\n",
       "      <td>Flat</td>\n",
       "    </tr>\n",
       "    <tr>\n",
       "      <th>2</th>\n",
       "      <td>37</td>\n",
       "      <td>M</td>\n",
       "      <td>ATA</td>\n",
       "      <td>130</td>\n",
       "      <td>283.0</td>\n",
       "      <td>0</td>\n",
       "      <td>ST</td>\n",
       "      <td>98.0</td>\n",
       "      <td>N</td>\n",
       "      <td>0.0</td>\n",
       "      <td>NaN</td>\n",
       "    </tr>\n",
       "    <tr>\n",
       "      <th>3</th>\n",
       "      <td>48</td>\n",
       "      <td>F</td>\n",
       "      <td>ASY</td>\n",
       "      <td>138</td>\n",
       "      <td>NaN</td>\n",
       "      <td>0</td>\n",
       "      <td>Normal</td>\n",
       "      <td>108.0</td>\n",
       "      <td>Y</td>\n",
       "      <td>1.5</td>\n",
       "      <td>Flat</td>\n",
       "    </tr>\n",
       "    <tr>\n",
       "      <th>4</th>\n",
       "      <td>54</td>\n",
       "      <td>M</td>\n",
       "      <td>NAP</td>\n",
       "      <td>150</td>\n",
       "      <td>195.0</td>\n",
       "      <td>0</td>\n",
       "      <td>Normal</td>\n",
       "      <td>122.0</td>\n",
       "      <td>N</td>\n",
       "      <td>0.0</td>\n",
       "      <td>Up</td>\n",
       "    </tr>\n",
       "  </tbody>\n",
       "</table>\n",
       "</div>"
      ],
      "text/plain": [
       "   Age Sex ChestPainType  RestingBP  Cholesterol  FastingBS RestingECG  MaxHR  \\\n",
       "0   40   M           ATA        140        289.0          0     Normal  172.0   \n",
       "1   49   F           NAP        160          NaN          0     Normal  156.0   \n",
       "2   37   M           ATA        130        283.0          0         ST   98.0   \n",
       "3   48   F           ASY        138          NaN          0     Normal  108.0   \n",
       "4   54   M           NAP        150        195.0          0     Normal  122.0   \n",
       "\n",
       "  ExerciseAngina  Oldpeak ST_Slope  \n",
       "0              N      0.0       Up  \n",
       "1              N      1.0     Flat  \n",
       "2              N      0.0      NaN  \n",
       "3              Y      1.5     Flat  \n",
       "4              N      0.0       Up  "
      ]
     },
     "execution_count": 231,
     "metadata": {},
     "output_type": "execute_result"
    }
   ],
   "source": [
    "# Lecture des données de test d'inférence \n",
    "data_test = pd.read_csv(\"test.csv\")\n",
    "col_x_test = [col for col in data_test.columns if col != \"HeartDisease\"]\n",
    "X_test = data[col_x_test]\n",
    "y_test = data[\"HeartDisease\"]\n",
    "X_test.head()"
   ]
  },
  {
   "cell_type": "code",
   "execution_count": 232,
   "metadata": {},
   "outputs": [
    {
     "name": "stdout",
     "output_type": "stream",
     "text": [
      "accuracy of inference data :  0.811373092926491\n"
     ]
    },
    {
     "name": "stderr",
     "output_type": "stream",
     "text": [
      "/home/batata/anaconda3/lib/python3.8/site-packages/pandas/core/frame.py:3065: SettingWithCopyWarning: \n",
      "A value is trying to be set on a copy of a slice from a DataFrame.\n",
      "Try using .loc[row_indexer,col_indexer] = value instead\n",
      "\n",
      "See the caveats in the documentation: https://pandas.pydata.org/pandas-docs/stable/user_guide/indexing.html#returning-a-view-versus-a-copy\n",
      "  self[k1] = value[k2]\n",
      "/home/batata/anaconda3/lib/python3.8/site-packages/pandas/core/series.py:4517: SettingWithCopyWarning: \n",
      "A value is trying to be set on a copy of a slice from a DataFrame\n",
      "\n",
      "See the caveats in the documentation: https://pandas.pydata.org/pandas-docs/stable/user_guide/indexing.html#returning-a-view-versus-a-copy\n",
      "  return super().fillna(\n"
     ]
    }
   ],
   "source": [
    "# Transformation des donées\n",
    "pipeline_cleaning_data(X_test)\n",
    "clf = joblib.load(\"logistic_regression_model.joblib\")\n",
    "y_pred = clf.predict(X_test)\n",
    "print(\"accuracy of inference data : \", accuracy_score(y_test, y_pred))"
   ]
  }
 ],
 "metadata": {
  "kernelspec": {
   "display_name": "Python 3",
   "language": "python",
   "name": "python3"
  },
  "language_info": {
   "codemirror_mode": {
    "name": "ipython",
    "version": 3
   },
   "file_extension": ".py",
   "mimetype": "text/x-python",
   "name": "python",
   "nbconvert_exporter": "python",
   "pygments_lexer": "ipython3",
   "version": "3.8.5"
  }
 },
 "nbformat": 4,
 "nbformat_minor": 4
}
